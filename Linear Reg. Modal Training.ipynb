{
  "cells": [
    {
      "cell_type": "markdown",
      "metadata": {
        "id": "fOgdqInR8rUG"
      },
      "source": [
        "**TASK 3.1**"
      ]
    },
    {
      "cell_type": "markdown",
      "metadata": {
        "id": "tLpYftRn8-KW"
      },
      "source": [
        "From the above dataset, consider only two attribute in the input dataset namely\n",
        "“blood_glucose_level” and “diabetes” for the Task3.1 and Task 3.2. Based on the blood\n",
        "glucose level, the person is classified under diabetic as “1” or non-diabetic as “0”. Perform\n",
        "the following,\n",
        "1. Split the given dataset into training and testing dataset\n",
        "2. Assign the weights and bias using any of the approach (formula or taking random\n",
        "values)\n",
        "3. Write your own code for building the Linear Regression model using the training\n",
        "dataset and predict the target class\n",
        "4. Calculate the Error deviation using test dataset by applying any measures and also\n",
        "find the Accuracy of the model\n",
        "5. Once the model is built, predict whether a person is diabetic or not for the given\n",
        "blood_glucose_level =155"
      ]
    },
    {
      "cell_type": "code",
      "execution_count": null,
      "metadata": {
        "id": "1OQvdKbk9M3b"
      },
      "outputs": [],
      "source": [
        "from sklearn.model_selection import train_test_split\n",
        "from sklearn.metrics import mean_squared_error, accuracy_score"
      ]
    },
    {
      "cell_type": "code",
      "execution_count": null,
      "metadata": {
        "colab": {
          "base_uri": "https://localhost:8080/"
        },
        "id": "KdoM2zeF9Yih",
        "outputId": "281d8fb6-9a6c-4109-d9ba-405c45dea6bb"
      },
      "outputs": [
        {
          "name": "stdout",
          "output_type": "stream",
          "text": [
            "\n",
            "✅ Model Accuracy: 92.43%\n",
            "🔹 Mean Squared Error: 0.0757\n",
            "\n",
            "🔹 Predicted Diabetes for blood_glucose_level=155: 1 (1=Diabetic, 0=Non-Diabetic)\n"
          ]
        }
      ],
      "source": [
        "# Select required columns\n",
        "df = df[['blood_glucose_level', 'diabetes']]\n",
        "\n",
        "# Split into training and testing sets (80% train, 20% test)\n",
        "X = df[['blood_glucose_level']].values  # Feature (Independent Variable)\n",
        "y = df['diabetes'].values  # Target (Dependent Variable)\n",
        "\n",
        "X_train, X_test, y_train, y_test = train_test_split(X, y, test_size=0.2, random_state=42)\n",
        "\n",
        "# Initialize weights (w) & bias (b) randomly ###\n",
        "w = np.random.rand()  # Weight\n",
        "b = np.random.rand()  # Bias\n",
        "learning_rate = 0.01\n",
        "epochs = 1000  # Number of iterations\n",
        "\n",
        "# Implement Linear Regression Training ###\n",
        "for epoch in range(epochs):\n",
        "    # Compute predictions\n",
        "    y_pred = w * X_train.flatten() + b\n",
        "\n",
        "    # Compute Error\n",
        "    error = y_pred - y_train\n",
        "\n",
        "    # Gradient Descent\n",
        "    w -= learning_rate * np.mean(error * X_train.flatten())  # Update weight\n",
        "    b -= learning_rate * np.mean(error)  # Update bias\n",
        "\n",
        "# Predict Test Dataset & Evaluate Performance ###\n",
        "y_test_pred = w * X_test.flatten() + b\n",
        "\n",
        "# Convert predictions to binary class (Threshold = 0.5)\n",
        "y_test_pred_binary = [1 if pred > 0.5 else 0 for pred in y_test_pred]\n",
        "\n",
        "# Calculate Error & Accuracy\n",
        "mse = mean_squared_error(y_test, y_test_pred_binary)\n",
        "accuracy = accuracy_score(y_test, y_test_pred_binary)\n",
        "\n",
        "print(f\"\\n✅ Model Accuracy: {accuracy * 100:.2f}%\")\n",
        "print(f\"🔹 Mean Squared Error: {mse:.4f}\")\n",
        "\n",
        "# Predict for blood_glucose_level = 155 ###\n",
        "glucose_level = 155\n",
        "predicted_diabetes = w * glucose_level + b\n",
        "predicted_class = 1 if predicted_diabetes > 0.5 else 0\n",
        "\n",
        "print(f\"\\n🔹 Predicted Diabetes for blood_glucose_level=155: {predicted_class} (1=Diabetic, 0=Non-Diabetic)\")"
      ]
    }
  ],
  "metadata": {
    "colab": {
      "provenance": []
    },
    "kernelspec": {
      "display_name": "Python 3",
      "name": "python3"
    },
    "language_info": {
      "name": "python"
    }
  },
  "nbformat": 4,
  "nbformat_minor": 0
}
