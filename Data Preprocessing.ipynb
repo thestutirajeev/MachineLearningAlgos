{
  "cells": [
    {
      "cell_type": "markdown",
      "metadata": {
        "id": "GHNIXJYM6z7G"
      },
      "source": [
        "**TASK 2**"
      ]
    },
    {
      "cell_type": "markdown",
      "metadata": {
        "id": "kY73cC7F65cB"
      },
      "source": [
        "1. Find the number of missing samples for each feature and if there is any missing value\n",
        "found, then fill the values based on the type of data(continuous/discrete)"
      ]
    },
    {
      "cell_type": "code",
      "execution_count": null,
      "metadata": {
        "colab": {
          "base_uri": "https://localhost:8080/"
        },
        "id": "AmT3Hf6s6_rK",
        "outputId": "263d4442-ebbc-40f2-dd12-26b770fa6ce9"
      },
      "outputs": [
        {
          "name": "stdout",
          "output_type": "stream",
          "text": [
            "🔹 Missing values per column:\n",
            " gender                 0\n",
            "age                    0\n",
            "hypertension           0\n",
            "heart_disease          0\n",
            "smoking_history        0\n",
            "bmi                    0\n",
            "HbA1c_level            0\n",
            "blood_glucose_level    0\n",
            "diabetes               0\n",
            "dtype: int64\n",
            "\n",
            "✅ Missing values handled!\n"
          ]
        }
      ],
      "source": [
        "### 1 Handling Missing Values ###\n",
        "print(\"🔹 Missing values per column:\\n\", df.isnull().sum())\n",
        "\n",
        "# Fill missing values\n",
        "for col in df.columns:\n",
        "    if df[col].isnull().sum() > 0:  # If missing values exist\n",
        "        if df[col].dtype == 'float64' or df[col].dtype == 'int64':  # Continuous data\n",
        "            df[col].fillna(df[col].mean(), inplace=True)\n",
        "        else:  # Categorical/discrete data\n",
        "            df[col].fillna(df[col].mode()[0], inplace=True)\n",
        "\n",
        "print(\"\\n✅ Missing values handled!\")\n"
      ]
    },
    {
      "cell_type": "markdown",
      "metadata": {
        "id": "KjxpOt7e7n1M"
      },
      "source": [
        "2. Remove the duplicated sample from the dataset"
      ]
    },
    {
      "cell_type": "code",
      "execution_count": null,
      "metadata": {
        "colab": {
          "base_uri": "https://localhost:8080/"
        },
        "id": "55hHd6-Y7rbo",
        "outputId": "0a38963c-d61f-4078-875d-0c036674ec4c"
      },
      "outputs": [
        {
          "name": "stdout",
          "output_type": "stream",
          "text": [
            "\n",
            "🔹 Removed 3854 duplicate rows.\n"
          ]
        }
      ],
      "source": [
        "before = df.shape[0]\n",
        "df.drop_duplicates(inplace=True)\n",
        "after = df.shape[0]\n",
        "print(f\"\\n🔹 Removed {before - after} duplicate rows.\")\n"
      ]
    },
    {
      "cell_type": "markdown",
      "metadata": {
        "id": "63OjHlls7zJU"
      },
      "source": [
        "3. Normalize `blood_glucose_level` (Min-Max Normalization)"
      ]
    },
    {
      "cell_type": "code",
      "execution_count": null,
      "metadata": {
        "colab": {
          "base_uri": "https://localhost:8080/"
        },
        "id": "VsrTYzuF74jE",
        "outputId": "c7d265da-05d6-4903-9621-1bed3ae89e0c"
      },
      "outputs": [
        {
          "name": "stdout",
          "output_type": "stream",
          "text": [
            "\n",
            "✅ blood_glucose_level normalized to range 0-1.\n"
          ]
        }
      ],
      "source": [
        "scaler = MinMaxScaler()\n",
        "df['blood_glucose_level'] = scaler.fit_transform(df[['blood_glucose_level']])\n",
        "print(\"\\n✅ blood_glucose_level normalized to range 0-1.\")\n"
      ]
    },
    {
      "cell_type": "markdown",
      "metadata": {
        "id": "xP9JU45S8WwF"
      },
      "source": [
        "4. Convert Categorical Data to Ordinal"
      ]
    },
    {
      "cell_type": "code",
      "execution_count": null,
      "metadata": {
        "colab": {
          "base_uri": "https://localhost:8080/"
        },
        "id": "oq1VBDRY8Ypc",
        "outputId": "35d16662-18d4-4c6f-b09f-fad7d031d50d"
      },
      "outputs": [
        {
          "name": "stdout",
          "output_type": "stream",
          "text": [
            "\n",
            "✅ Categorical data mapped to ordinal values.\n"
          ]
        },
        {
          "name": "stderr",
          "output_type": "stream",
          "text": [
            "<ipython-input-15-0a2df80862a4>:5: FutureWarning: Downcasting behavior in `replace` is deprecated and will be removed in a future version. To retain the old behavior, explicitly call `result.infer_objects(copy=False)`. To opt-in to the future behavior, set `pd.set_option('future.no_silent_downcasting', True)`\n",
            "  df.replace(category_mappings, inplace=True)\n"
          ]
        }
      ],
      "source": [
        "category_mappings = {\n",
        "    'gender': {'Male': 0, 'Female': 1, 'Other': 2},\n",
        "    'smoking_history': {'never': 0, 'former': 1, 'current': 2, 'not known': 3}\n",
        "}\n",
        "df.replace(category_mappings, inplace=True)\n",
        "print(\"\\n✅ Categorical data mapped to ordinal values.\")"
      ]
    },
    {
      "cell_type": "markdown",
      "metadata": {
        "id": "swcvxJKx8c58"
      },
      "source": [
        "5. Detect Outliers using IQR"
      ]
    },
    {
      "cell_type": "code",
      "execution_count": null,
      "metadata": {
        "id": "UlQhfMtG8kQ8"
      },
      "outputs": [],
      "source": [
        "outliers = {}\n",
        "for col in df.select_dtypes(include=[np.number]).columns:  # Only for numeric columns\n",
        "    Q1 = df[col].quantile(0.25)\n",
        "    Q3 = df[col].quantile(0.75)\n",
        "    IQR = Q3 - Q1\n",
        "    lower_bound = Q1 - 1.5 * IQR\n",
        "    upper_bound = Q3 + 1.5 * IQR\n",
        "\n",
        "    outliers[col] = df[(df[col] < lower_bound) | (df[col] > upper_bound)].shape[0]\n",
        "    print(f\"\\n🔹 Outlier range for {col}: Lower Bound = {lower_bound}, Upper Bound = {upper_bound}\")\n",
        "\n",
        "print(\"\\n✅ Outlier counts for each column:\", outliers)"
      ]
    }
  ],
  "metadata": {
    "colab": {
      "provenance": []
    },
    "kernelspec": {
      "display_name": "Python 3",
      "name": "python3"
    },
    "language_info": {
      "name": "python"
    }
  },
  "nbformat": 4,
  "nbformat_minor": 0
}
