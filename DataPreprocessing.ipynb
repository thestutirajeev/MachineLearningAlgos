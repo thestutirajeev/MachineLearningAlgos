import pandas as pd
import numpy as np
from sklearn.preprocessing import MinMaxScaler
#TASK 1

#*Load the dataset from the CSV file *
import gdown

# Google Drive link
url = "https://drive.google.com/uc?id=12G6B0cEBWd69QzxzM3ZGe9CyFlE7KD8m"
output = "diabetes_data.csv"

# Download the dataset
gdown.download(url, output, quiet=False)

# Load into a DataFrame
df = pd.read_csv(output)

# 1. Display number of samples and features with their data types
print("🔹 Number of samples:", df.shape[0])
print("🔹 Number of features:", df.shape[1])
print("\n🔹 Data types of features:")
print(df.dtypes)

# 2. Count the number of diabetes patients who never smoked
diabetes_non_smokers = df[(df['diabetes'] == 1) & (df['smoking_history'] == 'never')]
print("\n🔹 Number of diabetes patients who never smoked:", len(diabetes_non_smokers))

# 3. Display all statistical measures
print("\n🔹 Statistical Summary of the Dataset:")
print(df.describe())

# 4. Find the number of samples having missing values
missing_values = df.isnull().sum().sum()
print("\n🔹 Number of missing values in dataset:", missing_values)

# 5. Print the first 50 samples
print("\n🔹 First 50 rows of the dataset:")
print(df.head(50))
